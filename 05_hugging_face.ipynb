{
 "cells": [
  {
   "cell_type": "markdown",
   "id": "369af21a",
   "metadata": {},
   "source": [
    "# Install hugging face\n",
    "pip install huggingface_hub\n"
   ]
  },
  {
   "cell_type": "code",
   "execution_count": 6,
   "id": "a718b845",
   "metadata": {},
   "outputs": [],
   "source": [
    "from huggingface_hub import HfApi, login"
   ]
  },
  {
   "cell_type": "code",
   "execution_count": 5,
   "id": "cbaab1f4",
   "metadata": {},
   "outputs": [],
   "source": [
    "from huggingface_hub import login\n",
    "\n",
    "# Leer el token desde el archivo\n",
    "with open(\"token_generacion\", \"r\") as f:\n",
    "    token = f.read().strip()\n",
    "\n",
    "# Iniciar sesión\n",
    "login(token=token) ##C:\\Users\\daniel.canedo\\ende.ai\\ende_generacion\\token_generacion"
   ]
  },
  {
   "cell_type": "code",
   "execution_count": null,
   "id": "e97c6549",
   "metadata": {},
   "outputs": [],
   "source": [
    "from huggingface_hub import upload_file\n",
    "\n",
    "upload_file(\n",
    "    path_or_fileobj=\"./data/my_file.csv\",\n",
    "    path_in_repo=\"my_file.csv\",\n",
    "    repo_id=\"your-username/your-dataset-repo\",\n",
    "    repo_type=\"dataset\"\n",
    ")\n"
   ]
  },
  {
   "cell_type": "code",
   "execution_count": null,
   "id": "934758f7",
   "metadata": {},
   "outputs": [],
   "source": [
    "from huggingface_hub import upload_folder\n",
    "\n",
    "upload_folder(\n",
    "    repo_id=\"your-username/your-dataset-repo\",\n",
    "    folder_path=\"./my_folder\",\n",
    "    path_in_repo=\"\",  # or a subdirectory\n",
    "    repo_type=\"dataset\",\n",
    ")\n"
   ]
  },
  {
   "cell_type": "code",
   "execution_count": 10,
   "id": "df61d587",
   "metadata": {},
   "outputs": [
    {
     "data": {
      "text/plain": [
       "CommitInfo(commit_url='https://huggingface.co/datasets/danacio/ende_generacion/commit/53a124ecc5b6ca2c5c624bd5e6a404ce3cfe9f5d', commit_message='Upload folder using huggingface_hub', commit_description='', oid='53a124ecc5b6ca2c5c624bd5e6a404ce3cfe9f5d', pr_url=None, repo_url=RepoUrl('https://huggingface.co/datasets/danacio/ende_generacion', endpoint='https://huggingface.co', repo_type='dataset', repo_id='danacio/ende_generacion'), pr_revision=None, pr_num=None)"
      ]
     },
     "execution_count": 10,
     "metadata": {},
     "output_type": "execute_result"
    }
   ],
   "source": [
    "from huggingface_hub import upload_folder\n",
    "\n",
    "upload_folder(\n",
    "    repo_id=\"danacio/ende_generacion\",\n",
    "    folder_path=\"./data\",\n",
    "    path_in_repo=\"\",  # Puedes poner \"2025\" o similar si quieres subcarpeta\n",
    "    repo_type=\"dataset\",\n",
    "    token=token  # Asegúrate de que el token sea correcto\n",
    ")"
   ]
  }
 ],
 "metadata": {
  "kernelspec": {
   "display_name": ".venv",
   "language": "python",
   "name": "python3"
  },
  "language_info": {
   "codemirror_mode": {
    "name": "ipython",
    "version": 3
   },
   "file_extension": ".py",
   "mimetype": "text/x-python",
   "name": "python",
   "nbconvert_exporter": "python",
   "pygments_lexer": "ipython3",
   "version": "3.13.5"
  }
 },
 "nbformat": 4,
 "nbformat_minor": 5
}
